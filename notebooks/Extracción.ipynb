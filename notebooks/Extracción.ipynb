{
 "cells": [
  {
   "cell_type": "markdown",
   "id": "fd8d9a55",
   "metadata": {},
   "source": [
    "<h1>Desafio de extracción</h1>"
   ]
  },
  {
   "cell_type": "markdown",
   "id": "a07a6d1b",
   "metadata": {},
   "source": [
    "<h3>1. Dataframe original</h3>"
   ]
  },
  {
   "cell_type": "markdown",
   "id": "dcf7345c",
   "metadata": {},
   "source": [
    "<p>Importamos las librerias necesarias para poder recopilar datos.</p>"
   ]
  },
  {
   "cell_type": "code",
   "execution_count": 1,
   "id": "933033b3",
   "metadata": {},
   "outputs": [],
   "source": [
    "import requests\n",
    "import pandas as pd\n",
    "from time import sleep\n",
    "import numpy as np\n",
    "import tqdm\n",
    "\n",
    "from selenium import webdriver\n",
    "from webdriver_manager.chrome import ChromeDriverManager\n",
    "from selenium.webdriver.common.keys import Keys\n",
    "from selenium.webdriver.chrome.options import Options\n",
    "\n",
    "\n",
    "import warnings\n",
    "warnings.filterwarnings('ignore')\n",
    "\n",
    "import sys\n",
    "sys.path.append(\"../\")\n",
    "\n",
    "import src.harvest as hr"
   ]
  },
  {
   "cell_type": "markdown",
   "id": "81f81ff9",
   "metadata": {},
   "source": [
    "<p>Nos importamos nuestro csv a una variable como una DataFrame.</p>"
   ]
  },
  {
   "cell_type": "code",
   "execution_count": 3,
   "id": "6f7f0274",
   "metadata": {},
   "outputs": [],
   "source": [
    "eventos = pd.read_csv(\"../data/ufc_event_details.csv\")"
   ]
  },
  {
   "cell_type": "code",
   "execution_count": 3,
   "id": "85647cc7",
   "metadata": {
    "scrolled": true
   },
   "outputs": [
    {
     "data": {
      "text/html": [
       "<div>\n",
       "<style scoped>\n",
       "    .dataframe tbody tr th:only-of-type {\n",
       "        vertical-align: middle;\n",
       "    }\n",
       "\n",
       "    .dataframe tbody tr th {\n",
       "        vertical-align: top;\n",
       "    }\n",
       "\n",
       "    .dataframe thead th {\n",
       "        text-align: right;\n",
       "    }\n",
       "</style>\n",
       "<table border=\"1\" class=\"dataframe\">\n",
       "  <thead>\n",
       "    <tr style=\"text-align: right;\">\n",
       "      <th></th>\n",
       "      <th>EVENT</th>\n",
       "      <th>URL</th>\n",
       "      <th>DATE</th>\n",
       "      <th>LOCATION</th>\n",
       "    </tr>\n",
       "  </thead>\n",
       "  <tbody>\n",
       "    <tr>\n",
       "      <th>0</th>\n",
       "      <td>UFC 280: Oliveira vs. Makhachev</td>\n",
       "      <td>http://ufcstats.com/event-details/885e7f70dcac...</td>\n",
       "      <td>October 22, 2022</td>\n",
       "      <td>Abu Dhabi, Abu Dhabi, United Arab Emirates</td>\n",
       "    </tr>\n",
       "    <tr>\n",
       "      <th>1</th>\n",
       "      <td>UFC Fight Night: Grasso vs. Araujo</td>\n",
       "      <td>http://ufcstats.com/event-details/49c29e57d4e2...</td>\n",
       "      <td>October 15, 2022</td>\n",
       "      <td>Las Vegas, Nevada, USA</td>\n",
       "    </tr>\n",
       "  </tbody>\n",
       "</table>\n",
       "</div>"
      ],
      "text/plain": [
       "                                EVENT  \\\n",
       "0     UFC 280: Oliveira vs. Makhachev   \n",
       "1  UFC Fight Night: Grasso vs. Araujo   \n",
       "\n",
       "                                                 URL              DATE  \\\n",
       "0  http://ufcstats.com/event-details/885e7f70dcac...  October 22, 2022   \n",
       "1  http://ufcstats.com/event-details/49c29e57d4e2...  October 15, 2022   \n",
       "\n",
       "                                     LOCATION  \n",
       "0  Abu Dhabi, Abu Dhabi, United Arab Emirates  \n",
       "1                      Las Vegas, Nevada, USA  "
      ]
     },
     "execution_count": 3,
     "metadata": {},
     "output_type": "execute_result"
    }
   ],
   "source": [
    "eventos.head(2)"
   ]
  },
  {
   "cell_type": "markdown",
   "id": "454677d0",
   "metadata": {},
   "source": [
    "<h3>2. Limpieza de DataFrame original</h3>"
   ]
  },
  {
   "cell_type": "markdown",
   "id": "572dad3f",
   "metadata": {},
   "source": [
    "<p>Cambiaremos lo minimo posible el DataFrame original ya que queremos tener la mayor información posibel, así que lo unico uqe haremso sera borrar las filas que no contengas una url y cambiar los nulos que pudiera haber.</p>"
   ]
  },
  {
   "cell_type": "code",
   "execution_count": 4,
   "id": "ffa78cb1",
   "metadata": {},
   "outputs": [
    {
     "data": {
      "text/plain": [
       "EVENT       0.0\n",
       "URL         0.0\n",
       "DATE        0.0\n",
       "LOCATION    0.0\n",
       "dtype: float64"
      ]
     },
     "execution_count": 4,
     "metadata": {},
     "output_type": "execute_result"
    }
   ],
   "source": [
    "(eventos.isnull().sum() * 100) / eventos.shape[0]\n",
    "#No hay nulos."
   ]
  },
  {
   "cell_type": "code",
   "execution_count": 5,
   "id": "efbf88b9",
   "metadata": {},
   "outputs": [
    {
     "data": {
      "text/plain": [
       "623"
      ]
     },
     "execution_count": 5,
     "metadata": {},
     "output_type": "execute_result"
    }
   ],
   "source": [
    "len(eventos[\"EVENT\"].unique())\n",
    "#Todos los eventos son distintos."
   ]
  },
  {
   "cell_type": "markdown",
   "id": "256bce6b",
   "metadata": {},
   "source": [
    "<h3>3. Enriquecimiento a traves de web scraping</h3>"
   ]
  },
  {
   "cell_type": "markdown",
   "id": "b6beaeeb",
   "metadata": {},
   "source": [
    "<p>Procedemos ha recopilar datos de los combates a trabes de la web de la <b>UFC</b> 📸👀 utilizansdo las urls que tiene nuestro DataFrame.</p>\n",
    "<p>Empezaremos instalando de forma local Selenium.</p>"
   ]
  },
  {
   "cell_type": "code",
   "execution_count": 14,
   "id": "e5c016df",
   "metadata": {},
   "outputs": [],
   "source": [
    "driver = webdriver.Chrome(ChromeDriverManager().install())\n",
    "driver.get(\"https://chromedriver.chromium.org/downloads\")"
   ]
  },
  {
   "cell_type": "code",
   "execution_count": 6,
   "id": "b9cbae49",
   "metadata": {},
   "outputs": [],
   "source": [
    "opciones= Options()\n",
    "opciones.add_experimental_option('excludeSwitches', ['enable-automation'])\n",
    "opciones.add_experimental_option('useAutomationExtension', False)\n",
    "opciones.add_argument('--start-maximized')\n",
    "opciones.add_argument('user.data-dir=selenium')\n",
    "opciones.add_argument('--incognito')"
   ]
  },
  {
   "cell_type": "markdown",
   "id": "246cd8ee",
   "metadata": {},
   "source": [
    "<p>Creamos dos nuevas variables:<p/>\n",
    "<p><b>URLS</b> para almacenar todas las urls que se encuentran en nuestro DataFrame.<p/>\n",
    "<p><b>DORMIR</b> para establecer el tiempo de esper antes de ejecutar cada acción con Selenium.<p/>"
   ]
  },
  {
   "cell_type": "code",
   "execution_count": 4,
   "id": "8e066c00",
   "metadata": {},
   "outputs": [],
   "source": [
    "urls = eventos[\"URL\"]"
   ]
  },
  {
   "cell_type": "markdown",
   "id": "29ce292a",
   "metadata": {},
   "source": [
    "<p>Procedemos a programar el codigo que necesitaremos para estraer las estadisticas del combate</p>"
   ]
  },
  {
   "cell_type": "code",
   "execution_count": 7,
   "id": "07b45c8f",
   "metadata": {
    "scrolled": true
   },
   "outputs": [
    {
     "name": "stdout",
     "output_type": "stream",
     "text": [
      "CPU times: total: 5min 38s\n",
      "Wall time: 3h 12min 42s\n"
     ]
    }
   ],
   "source": [
    "%%time\n",
    "\n",
    "list_stats = hr.rec_fight(urls)"
   ]
  },
  {
   "cell_type": "code",
   "execution_count": 8,
   "id": "a118c6f5",
   "metadata": {},
   "outputs": [],
   "source": [
    "res_fight = pd.DataFrame(list_stats)\n",
    "# Guardamos el diccionario credo en una variable para poder guardarlo en nuestra carpeta de datos "
   ]
  },
  {
   "cell_type": "markdown",
   "id": "0b5e1d80",
   "metadata": {},
   "source": [
    "<p>Copiamos la informacion recopilada.</p>"
   ]
  },
  {
   "cell_type": "code",
   "execution_count": null,
   "id": "ce2b54d5",
   "metadata": {},
   "outputs": [],
   "source": [
    "df_fight = res_fight.copy()"
   ]
  },
  {
   "cell_type": "code",
   "execution_count": 3,
   "id": "a905a3f0",
   "metadata": {
    "scrolled": true
   },
   "outputs": [
    {
     "data": {
      "text/html": [
       "<div>\n",
       "<style scoped>\n",
       "    .dataframe tbody tr th:only-of-type {\n",
       "        vertical-align: middle;\n",
       "    }\n",
       "\n",
       "    .dataframe tbody tr th {\n",
       "        vertical-align: top;\n",
       "    }\n",
       "\n",
       "    .dataframe thead th {\n",
       "        text-align: right;\n",
       "    }\n",
       "</style>\n",
       "<table border=\"1\" class=\"dataframe\">\n",
       "  <thead>\n",
       "    <tr style=\"text-align: right;\">\n",
       "      <th></th>\n",
       "      <th>FIGHTER</th>\n",
       "      <th>KD</th>\n",
       "      <th>C. STR</th>\n",
       "      <th>C. TD</th>\n",
       "      <th>SUB</th>\n",
       "      <th>WEIGHT CLASS</th>\n",
       "      <th>METHOD</th>\n",
       "      <th>ROUND</th>\n",
       "      <th>TIME</th>\n",
       "      <th>SIG. STR</th>\n",
       "      <th>TOTAL STR.</th>\n",
       "      <th>TD</th>\n",
       "      <th>T. CONTROL</th>\n",
       "      <th>CABEZA</th>\n",
       "      <th>CUERPO</th>\n",
       "      <th>PIERNA</th>\n",
       "      <th>CLINCH</th>\n",
       "      <th>GROUND</th>\n",
       "    </tr>\n",
       "  </thead>\n",
       "  <tbody>\n",
       "    <tr>\n",
       "      <th>0</th>\n",
       "      <td>['Islam Makhachev\\nCharles Oliveira', 'Aljamai...</td>\n",
       "      <td>['1\\n0', '0\\n0', '0\\n0', '1\\n0', '0\\n0', '0\\n0...</td>\n",
       "      <td>['30\\n19', '72\\n8', '84\\n58', '59\\n33', '98\\n7...</td>\n",
       "      <td>['2\\n0', '5\\n0', '0\\n6', '0\\n4', '1\\n0', '0\\n0...</td>\n",
       "      <td>['1\\n0', '2\\n0', '0\\n0', '0\\n0', '0\\n0', '0\\n0...</td>\n",
       "      <td>['Lightweight', 'Bantamweight', 'Bantamweight'...</td>\n",
       "      <td>['SUB\\nArm Triangle', 'KO/TKO\\nPunches', 'S-DE...</td>\n",
       "      <td>['2', '2', '3', '3', '3', '2', '3', '3', '3', ...</td>\n",
       "      <td>['3:16', '3:44', '5:00', '5:00', '5:00', '4:47...</td>\n",
       "      <td>['19 of 39\\n30 of 41', '72 of 93\\n8 of 26', '5...</td>\n",
       "      <td>['25 of 46\\n72 of 86', '148 of 181\\n13 of 31',...</td>\n",
       "      <td>['0 of 1\\n2 of 3', '5 of 8\\n0 of 0', '6 of 13\\...</td>\n",
       "      <td>['0:42\\n5:05', '7:06\\n0:03', '5:44\\n0:02', '0:...</td>\n",
       "      <td>['7 of 23\\n25 of 35', '56 of 75\\n3 of 20', '24...</td>\n",
       "      <td>['12 of 15\\n5 of 6', '13 of 15\\n2 of 2', '13 o...</td>\n",
       "      <td>['0 of 1\\n0 of 0', '3 of 3\\n3 of 4', '21 of 21...</td>\n",
       "      <td>['7 of 8\\n5 of 5', '2 of 4\\n0 of 0', '5 of 6\\n...</td>\n",
       "      <td>['2 of 5\\n4 of 5', '53 of 59\\n0 of 0', '6 of 9...</td>\n",
       "    </tr>\n",
       "    <tr>\n",
       "      <th>1</th>\n",
       "      <td>['Alexa Grasso\\nViviane Araujo', 'Jonathan Mar...</td>\n",
       "      <td>['0\\n0', '2\\n0', '0\\n0', '0\\n0', '1\\n0', '2\\n0...</td>\n",
       "      <td>['153\\n126', '62\\n51', '61\\n25', '60\\n55', '8\\...</td>\n",
       "      <td>['0\\n2', '0\\n1', '0\\n3', '2\\n0', '0\\n0', '1\\n1...</td>\n",
       "      <td>['0\\n0', '0\\n0', '0\\n1', '0\\n0', '0\\n0', '0\\n0...</td>\n",
       "      <td>[\"Women's Flyweight\", 'Bantamweight', 'Middlew...</td>\n",
       "      <td>['U-DEC', 'KO/TKO\\nKick', 'KO/TKO\\nElbows', 'U...</td>\n",
       "      <td>['5', '2', '2', '3', '1', '3', '3', '1', '3', ...</td>\n",
       "      <td>['5:00', '4:19', '3:12', '5:00', '1:28', '5:00...</td>\n",
       "      <td>['153 of 311\\n126 of 264', '51 of 79\\n62 of 10...</td>\n",
       "      <td>['193 of 353\\n148 of 288', '60 of 88\\n66 of 10...</td>\n",
       "      <td>['0 of 0\\n2 of 10', '1 of 1\\n0 of 1', '3 of 5\\...</td>\n",
       "      <td>['0:00\\n3:29', '0:20\\n3:30', '5:03\\n1:11', '4:...</td>\n",
       "      <td>['101 of 243\\n103 of 235', '10 of 35\\n40 of 77...</td>\n",
       "      <td>['33 of 45\\n17 of 22', '9 of 10\\n15 of 18', '5...</td>\n",
       "      <td>['19 of 23\\n6 of 7', '32 of 34\\n7 of 7', '0 of...</td>\n",
       "      <td>['9 of 12\\n0 of 1', '3 of 5\\n12 of 14', '7 of ...</td>\n",
       "      <td>['1 of 1\\n2 of 2', '0 of 1\\n13 of 24', '11 of ...</td>\n",
       "    </tr>\n",
       "  </tbody>\n",
       "</table>\n",
       "</div>"
      ],
      "text/plain": [
       "                                             FIGHTER  \\\n",
       "0  ['Islam Makhachev\\nCharles Oliveira', 'Aljamai...   \n",
       "1  ['Alexa Grasso\\nViviane Araujo', 'Jonathan Mar...   \n",
       "\n",
       "                                                  KD  \\\n",
       "0  ['1\\n0', '0\\n0', '0\\n0', '1\\n0', '0\\n0', '0\\n0...   \n",
       "1  ['0\\n0', '2\\n0', '0\\n0', '0\\n0', '1\\n0', '2\\n0...   \n",
       "\n",
       "                                              C. STR  \\\n",
       "0  ['30\\n19', '72\\n8', '84\\n58', '59\\n33', '98\\n7...   \n",
       "1  ['153\\n126', '62\\n51', '61\\n25', '60\\n55', '8\\...   \n",
       "\n",
       "                                               C. TD  \\\n",
       "0  ['2\\n0', '5\\n0', '0\\n6', '0\\n4', '1\\n0', '0\\n0...   \n",
       "1  ['0\\n2', '0\\n1', '0\\n3', '2\\n0', '0\\n0', '1\\n1...   \n",
       "\n",
       "                                                 SUB  \\\n",
       "0  ['1\\n0', '2\\n0', '0\\n0', '0\\n0', '0\\n0', '0\\n0...   \n",
       "1  ['0\\n0', '0\\n0', '0\\n1', '0\\n0', '0\\n0', '0\\n0...   \n",
       "\n",
       "                                        WEIGHT CLASS  \\\n",
       "0  ['Lightweight', 'Bantamweight', 'Bantamweight'...   \n",
       "1  [\"Women's Flyweight\", 'Bantamweight', 'Middlew...   \n",
       "\n",
       "                                              METHOD  \\\n",
       "0  ['SUB\\nArm Triangle', 'KO/TKO\\nPunches', 'S-DE...   \n",
       "1  ['U-DEC', 'KO/TKO\\nKick', 'KO/TKO\\nElbows', 'U...   \n",
       "\n",
       "                                               ROUND  \\\n",
       "0  ['2', '2', '3', '3', '3', '2', '3', '3', '3', ...   \n",
       "1  ['5', '2', '2', '3', '1', '3', '3', '1', '3', ...   \n",
       "\n",
       "                                                TIME  \\\n",
       "0  ['3:16', '3:44', '5:00', '5:00', '5:00', '4:47...   \n",
       "1  ['5:00', '4:19', '3:12', '5:00', '1:28', '5:00...   \n",
       "\n",
       "                                            SIG. STR  \\\n",
       "0  ['19 of 39\\n30 of 41', '72 of 93\\n8 of 26', '5...   \n",
       "1  ['153 of 311\\n126 of 264', '51 of 79\\n62 of 10...   \n",
       "\n",
       "                                          TOTAL STR.  \\\n",
       "0  ['25 of 46\\n72 of 86', '148 of 181\\n13 of 31',...   \n",
       "1  ['193 of 353\\n148 of 288', '60 of 88\\n66 of 10...   \n",
       "\n",
       "                                                  TD  \\\n",
       "0  ['0 of 1\\n2 of 3', '5 of 8\\n0 of 0', '6 of 13\\...   \n",
       "1  ['0 of 0\\n2 of 10', '1 of 1\\n0 of 1', '3 of 5\\...   \n",
       "\n",
       "                                          T. CONTROL  \\\n",
       "0  ['0:42\\n5:05', '7:06\\n0:03', '5:44\\n0:02', '0:...   \n",
       "1  ['0:00\\n3:29', '0:20\\n3:30', '5:03\\n1:11', '4:...   \n",
       "\n",
       "                                              CABEZA  \\\n",
       "0  ['7 of 23\\n25 of 35', '56 of 75\\n3 of 20', '24...   \n",
       "1  ['101 of 243\\n103 of 235', '10 of 35\\n40 of 77...   \n",
       "\n",
       "                                              CUERPO  \\\n",
       "0  ['12 of 15\\n5 of 6', '13 of 15\\n2 of 2', '13 o...   \n",
       "1  ['33 of 45\\n17 of 22', '9 of 10\\n15 of 18', '5...   \n",
       "\n",
       "                                              PIERNA  \\\n",
       "0  ['0 of 1\\n0 of 0', '3 of 3\\n3 of 4', '21 of 21...   \n",
       "1  ['19 of 23\\n6 of 7', '32 of 34\\n7 of 7', '0 of...   \n",
       "\n",
       "                                              CLINCH  \\\n",
       "0  ['7 of 8\\n5 of 5', '2 of 4\\n0 of 0', '5 of 6\\n...   \n",
       "1  ['9 of 12\\n0 of 1', '3 of 5\\n12 of 14', '7 of ...   \n",
       "\n",
       "                                              GROUND  \n",
       "0  ['2 of 5\\n4 of 5', '53 of 59\\n0 of 0', '6 of 9...  \n",
       "1  ['1 of 1\\n2 of 2', '0 of 1\\n13 of 24', '11 of ...  "
      ]
     },
     "execution_count": 3,
     "metadata": {},
     "output_type": "execute_result"
    }
   ],
   "source": [
    "df_fight.head(2)"
   ]
  },
  {
   "cell_type": "markdown",
   "id": "ee17881a",
   "metadata": {},
   "source": [
    "<p>Ahora que tenemos nuestro dos DataFrames guardados podemos crear uno nuevo formado por la union de los dos anteriores para poder trabajar con el.</p>\n",
    "<p>Aun que no tienen ninguna columna en comun para poder unirse tien la misma longitud de filas así que poderemos a cer un concat en el <b>\"axis = 1\"</b></p>"
   ]
  },
  {
   "cell_type": "code",
   "execution_count": 6,
   "id": "9db55e2a",
   "metadata": {},
   "outputs": [
    {
     "data": {
      "text/html": [
       "<div>\n",
       "<style scoped>\n",
       "    .dataframe tbody tr th:only-of-type {\n",
       "        vertical-align: middle;\n",
       "    }\n",
       "\n",
       "    .dataframe tbody tr th {\n",
       "        vertical-align: top;\n",
       "    }\n",
       "\n",
       "    .dataframe thead th {\n",
       "        text-align: right;\n",
       "    }\n",
       "</style>\n",
       "<table border=\"1\" class=\"dataframe\">\n",
       "  <thead>\n",
       "    <tr style=\"text-align: right;\">\n",
       "      <th></th>\n",
       "      <th>EVENT</th>\n",
       "      <th>URL</th>\n",
       "      <th>DATE</th>\n",
       "      <th>LOCATION</th>\n",
       "      <th>FIGHTER</th>\n",
       "      <th>KD</th>\n",
       "      <th>C. STR</th>\n",
       "      <th>C. TD</th>\n",
       "      <th>SUB</th>\n",
       "      <th>WEIGHT CLASS</th>\n",
       "      <th>...</th>\n",
       "      <th>TIME</th>\n",
       "      <th>SIG. STR</th>\n",
       "      <th>TOTAL STR.</th>\n",
       "      <th>TD</th>\n",
       "      <th>T. CONTROL</th>\n",
       "      <th>CABEZA</th>\n",
       "      <th>CUERPO</th>\n",
       "      <th>PIERNA</th>\n",
       "      <th>CLINCH</th>\n",
       "      <th>GROUND</th>\n",
       "    </tr>\n",
       "  </thead>\n",
       "  <tbody>\n",
       "    <tr>\n",
       "      <th>0</th>\n",
       "      <td>UFC 280: Oliveira vs. Makhachev</td>\n",
       "      <td>http://ufcstats.com/event-details/885e7f70dcac...</td>\n",
       "      <td>October 22, 2022</td>\n",
       "      <td>Abu Dhabi, Abu Dhabi, United Arab Emirates</td>\n",
       "      <td>['Islam Makhachev\\nCharles Oliveira', 'Aljamai...</td>\n",
       "      <td>['1\\n0', '0\\n0', '0\\n0', '1\\n0', '0\\n0', '0\\n0...</td>\n",
       "      <td>['30\\n19', '72\\n8', '84\\n58', '59\\n33', '98\\n7...</td>\n",
       "      <td>['2\\n0', '5\\n0', '0\\n6', '0\\n4', '1\\n0', '0\\n0...</td>\n",
       "      <td>['1\\n0', '2\\n0', '0\\n0', '0\\n0', '0\\n0', '0\\n0...</td>\n",
       "      <td>['Lightweight', 'Bantamweight', 'Bantamweight'...</td>\n",
       "      <td>...</td>\n",
       "      <td>['3:16', '3:44', '5:00', '5:00', '5:00', '4:47...</td>\n",
       "      <td>['19 of 39\\n30 of 41', '72 of 93\\n8 of 26', '5...</td>\n",
       "      <td>['25 of 46\\n72 of 86', '148 of 181\\n13 of 31',...</td>\n",
       "      <td>['0 of 1\\n2 of 3', '5 of 8\\n0 of 0', '6 of 13\\...</td>\n",
       "      <td>['0:42\\n5:05', '7:06\\n0:03', '5:44\\n0:02', '0:...</td>\n",
       "      <td>['7 of 23\\n25 of 35', '56 of 75\\n3 of 20', '24...</td>\n",
       "      <td>['12 of 15\\n5 of 6', '13 of 15\\n2 of 2', '13 o...</td>\n",
       "      <td>['0 of 1\\n0 of 0', '3 of 3\\n3 of 4', '21 of 21...</td>\n",
       "      <td>['7 of 8\\n5 of 5', '2 of 4\\n0 of 0', '5 of 6\\n...</td>\n",
       "      <td>['2 of 5\\n4 of 5', '53 of 59\\n0 of 0', '6 of 9...</td>\n",
       "    </tr>\n",
       "    <tr>\n",
       "      <th>1</th>\n",
       "      <td>UFC Fight Night: Grasso vs. Araujo</td>\n",
       "      <td>http://ufcstats.com/event-details/49c29e57d4e2...</td>\n",
       "      <td>October 15, 2022</td>\n",
       "      <td>Las Vegas, Nevada, USA</td>\n",
       "      <td>['Alexa Grasso\\nViviane Araujo', 'Jonathan Mar...</td>\n",
       "      <td>['0\\n0', '2\\n0', '0\\n0', '0\\n0', '1\\n0', '2\\n0...</td>\n",
       "      <td>['153\\n126', '62\\n51', '61\\n25', '60\\n55', '8\\...</td>\n",
       "      <td>['0\\n2', '0\\n1', '0\\n3', '2\\n0', '0\\n0', '1\\n1...</td>\n",
       "      <td>['0\\n0', '0\\n0', '0\\n1', '0\\n0', '0\\n0', '0\\n0...</td>\n",
       "      <td>[\"Women's Flyweight\", 'Bantamweight', 'Middlew...</td>\n",
       "      <td>...</td>\n",
       "      <td>['5:00', '4:19', '3:12', '5:00', '1:28', '5:00...</td>\n",
       "      <td>['153 of 311\\n126 of 264', '51 of 79\\n62 of 10...</td>\n",
       "      <td>['193 of 353\\n148 of 288', '60 of 88\\n66 of 10...</td>\n",
       "      <td>['0 of 0\\n2 of 10', '1 of 1\\n0 of 1', '3 of 5\\...</td>\n",
       "      <td>['0:00\\n3:29', '0:20\\n3:30', '5:03\\n1:11', '4:...</td>\n",
       "      <td>['101 of 243\\n103 of 235', '10 of 35\\n40 of 77...</td>\n",
       "      <td>['33 of 45\\n17 of 22', '9 of 10\\n15 of 18', '5...</td>\n",
       "      <td>['19 of 23\\n6 of 7', '32 of 34\\n7 of 7', '0 of...</td>\n",
       "      <td>['9 of 12\\n0 of 1', '3 of 5\\n12 of 14', '7 of ...</td>\n",
       "      <td>['1 of 1\\n2 of 2', '0 of 1\\n13 of 24', '11 of ...</td>\n",
       "    </tr>\n",
       "  </tbody>\n",
       "</table>\n",
       "<p>2 rows × 22 columns</p>\n",
       "</div>"
      ],
      "text/plain": [
       "                                EVENT  \\\n",
       "0     UFC 280: Oliveira vs. Makhachev   \n",
       "1  UFC Fight Night: Grasso vs. Araujo   \n",
       "\n",
       "                                                 URL              DATE  \\\n",
       "0  http://ufcstats.com/event-details/885e7f70dcac...  October 22, 2022   \n",
       "1  http://ufcstats.com/event-details/49c29e57d4e2...  October 15, 2022   \n",
       "\n",
       "                                     LOCATION  \\\n",
       "0  Abu Dhabi, Abu Dhabi, United Arab Emirates   \n",
       "1                      Las Vegas, Nevada, USA   \n",
       "\n",
       "                                             FIGHTER  \\\n",
       "0  ['Islam Makhachev\\nCharles Oliveira', 'Aljamai...   \n",
       "1  ['Alexa Grasso\\nViviane Araujo', 'Jonathan Mar...   \n",
       "\n",
       "                                                  KD  \\\n",
       "0  ['1\\n0', '0\\n0', '0\\n0', '1\\n0', '0\\n0', '0\\n0...   \n",
       "1  ['0\\n0', '2\\n0', '0\\n0', '0\\n0', '1\\n0', '2\\n0...   \n",
       "\n",
       "                                              C. STR  \\\n",
       "0  ['30\\n19', '72\\n8', '84\\n58', '59\\n33', '98\\n7...   \n",
       "1  ['153\\n126', '62\\n51', '61\\n25', '60\\n55', '8\\...   \n",
       "\n",
       "                                               C. TD  \\\n",
       "0  ['2\\n0', '5\\n0', '0\\n6', '0\\n4', '1\\n0', '0\\n0...   \n",
       "1  ['0\\n2', '0\\n1', '0\\n3', '2\\n0', '0\\n0', '1\\n1...   \n",
       "\n",
       "                                                 SUB  \\\n",
       "0  ['1\\n0', '2\\n0', '0\\n0', '0\\n0', '0\\n0', '0\\n0...   \n",
       "1  ['0\\n0', '0\\n0', '0\\n1', '0\\n0', '0\\n0', '0\\n0...   \n",
       "\n",
       "                                        WEIGHT CLASS  ...  \\\n",
       "0  ['Lightweight', 'Bantamweight', 'Bantamweight'...  ...   \n",
       "1  [\"Women's Flyweight\", 'Bantamweight', 'Middlew...  ...   \n",
       "\n",
       "                                                TIME  \\\n",
       "0  ['3:16', '3:44', '5:00', '5:00', '5:00', '4:47...   \n",
       "1  ['5:00', '4:19', '3:12', '5:00', '1:28', '5:00...   \n",
       "\n",
       "                                            SIG. STR  \\\n",
       "0  ['19 of 39\\n30 of 41', '72 of 93\\n8 of 26', '5...   \n",
       "1  ['153 of 311\\n126 of 264', '51 of 79\\n62 of 10...   \n",
       "\n",
       "                                          TOTAL STR.  \\\n",
       "0  ['25 of 46\\n72 of 86', '148 of 181\\n13 of 31',...   \n",
       "1  ['193 of 353\\n148 of 288', '60 of 88\\n66 of 10...   \n",
       "\n",
       "                                                  TD  \\\n",
       "0  ['0 of 1\\n2 of 3', '5 of 8\\n0 of 0', '6 of 13\\...   \n",
       "1  ['0 of 0\\n2 of 10', '1 of 1\\n0 of 1', '3 of 5\\...   \n",
       "\n",
       "                                          T. CONTROL  \\\n",
       "0  ['0:42\\n5:05', '7:06\\n0:03', '5:44\\n0:02', '0:...   \n",
       "1  ['0:00\\n3:29', '0:20\\n3:30', '5:03\\n1:11', '4:...   \n",
       "\n",
       "                                              CABEZA  \\\n",
       "0  ['7 of 23\\n25 of 35', '56 of 75\\n3 of 20', '24...   \n",
       "1  ['101 of 243\\n103 of 235', '10 of 35\\n40 of 77...   \n",
       "\n",
       "                                              CUERPO  \\\n",
       "0  ['12 of 15\\n5 of 6', '13 of 15\\n2 of 2', '13 o...   \n",
       "1  ['33 of 45\\n17 of 22', '9 of 10\\n15 of 18', '5...   \n",
       "\n",
       "                                              PIERNA  \\\n",
       "0  ['0 of 1\\n0 of 0', '3 of 3\\n3 of 4', '21 of 21...   \n",
       "1  ['19 of 23\\n6 of 7', '32 of 34\\n7 of 7', '0 of...   \n",
       "\n",
       "                                              CLINCH  \\\n",
       "0  ['7 of 8\\n5 of 5', '2 of 4\\n0 of 0', '5 of 6\\n...   \n",
       "1  ['9 of 12\\n0 of 1', '3 of 5\\n12 of 14', '7 of ...   \n",
       "\n",
       "                                              GROUND  \n",
       "0  ['2 of 5\\n4 of 5', '53 of 59\\n0 of 0', '6 of 9...  \n",
       "1  ['1 of 1\\n2 of 2', '0 of 1\\n13 of 24', '11 of ...  \n",
       "\n",
       "[2 rows x 22 columns]"
      ]
     },
     "execution_count": 6,
     "metadata": {},
     "output_type": "execute_result"
    }
   ],
   "source": [
    "#df.ionsert(loc, column, value, allow_duplicates=True --> si quieres que la columna se duplique)\n",
    "df = pd.concat([eventos, df_fight], axis=1)\n",
    "df.head(2)"
   ]
  },
  {
   "cell_type": "code",
   "execution_count": 7,
   "id": "e74afbe5",
   "metadata": {},
   "outputs": [],
   "source": [
    "df.to_csv(\"../data/ufc.csv\")"
   ]
  },
  {
   "cell_type": "code",
   "execution_count": 8,
   "id": "70330001",
   "metadata": {
    "scrolled": true
   },
   "outputs": [
    {
     "data": {
      "text/html": [
       "<div>\n",
       "<style scoped>\n",
       "    .dataframe tbody tr th:only-of-type {\n",
       "        vertical-align: middle;\n",
       "    }\n",
       "\n",
       "    .dataframe tbody tr th {\n",
       "        vertical-align: top;\n",
       "    }\n",
       "\n",
       "    .dataframe thead th {\n",
       "        text-align: right;\n",
       "    }\n",
       "</style>\n",
       "<table border=\"1\" class=\"dataframe\">\n",
       "  <thead>\n",
       "    <tr style=\"text-align: right;\">\n",
       "      <th></th>\n",
       "      <th>EVENT</th>\n",
       "      <th>URL</th>\n",
       "      <th>DATE</th>\n",
       "      <th>LOCATION</th>\n",
       "      <th>FIGHTER</th>\n",
       "      <th>KD</th>\n",
       "      <th>C. STR</th>\n",
       "      <th>C. TD</th>\n",
       "      <th>SUB</th>\n",
       "      <th>WEIGHT CLASS</th>\n",
       "      <th>...</th>\n",
       "      <th>TIME</th>\n",
       "      <th>SIG. STR</th>\n",
       "      <th>TOTAL STR.</th>\n",
       "      <th>TD</th>\n",
       "      <th>T. CONTROL</th>\n",
       "      <th>CABEZA</th>\n",
       "      <th>CUERPO</th>\n",
       "      <th>PIERNA</th>\n",
       "      <th>CLINCH</th>\n",
       "      <th>GROUND</th>\n",
       "    </tr>\n",
       "  </thead>\n",
       "  <tbody>\n",
       "    <tr>\n",
       "      <th>0</th>\n",
       "      <td>UFC 280: Oliveira vs. Makhachev</td>\n",
       "      <td>http://ufcstats.com/event-details/885e7f70dcac...</td>\n",
       "      <td>October 22, 2022</td>\n",
       "      <td>Abu Dhabi, Abu Dhabi, United Arab Emirates</td>\n",
       "      <td>['Islam Makhachev\\nCharles Oliveira', 'Aljamai...</td>\n",
       "      <td>['1\\n0', '0\\n0', '0\\n0', '1\\n0', '0\\n0', '0\\n0...</td>\n",
       "      <td>['30\\n19', '72\\n8', '84\\n58', '59\\n33', '98\\n7...</td>\n",
       "      <td>['2\\n0', '5\\n0', '0\\n6', '0\\n4', '1\\n0', '0\\n0...</td>\n",
       "      <td>['1\\n0', '2\\n0', '0\\n0', '0\\n0', '0\\n0', '0\\n0...</td>\n",
       "      <td>['Lightweight', 'Bantamweight', 'Bantamweight'...</td>\n",
       "      <td>...</td>\n",
       "      <td>['3:16', '3:44', '5:00', '5:00', '5:00', '4:47...</td>\n",
       "      <td>['19 of 39\\n30 of 41', '72 of 93\\n8 of 26', '5...</td>\n",
       "      <td>['25 of 46\\n72 of 86', '148 of 181\\n13 of 31',...</td>\n",
       "      <td>['0 of 1\\n2 of 3', '5 of 8\\n0 of 0', '6 of 13\\...</td>\n",
       "      <td>['0:42\\n5:05', '7:06\\n0:03', '5:44\\n0:02', '0:...</td>\n",
       "      <td>['7 of 23\\n25 of 35', '56 of 75\\n3 of 20', '24...</td>\n",
       "      <td>['12 of 15\\n5 of 6', '13 of 15\\n2 of 2', '13 o...</td>\n",
       "      <td>['0 of 1\\n0 of 0', '3 of 3\\n3 of 4', '21 of 21...</td>\n",
       "      <td>['7 of 8\\n5 of 5', '2 of 4\\n0 of 0', '5 of 6\\n...</td>\n",
       "      <td>['2 of 5\\n4 of 5', '53 of 59\\n0 of 0', '6 of 9...</td>\n",
       "    </tr>\n",
       "    <tr>\n",
       "      <th>1</th>\n",
       "      <td>UFC Fight Night: Grasso vs. Araujo</td>\n",
       "      <td>http://ufcstats.com/event-details/49c29e57d4e2...</td>\n",
       "      <td>October 15, 2022</td>\n",
       "      <td>Las Vegas, Nevada, USA</td>\n",
       "      <td>['Alexa Grasso\\nViviane Araujo', 'Jonathan Mar...</td>\n",
       "      <td>['0\\n0', '2\\n0', '0\\n0', '0\\n0', '1\\n0', '2\\n0...</td>\n",
       "      <td>['153\\n126', '62\\n51', '61\\n25', '60\\n55', '8\\...</td>\n",
       "      <td>['0\\n2', '0\\n1', '0\\n3', '2\\n0', '0\\n0', '1\\n1...</td>\n",
       "      <td>['0\\n0', '0\\n0', '0\\n1', '0\\n0', '0\\n0', '0\\n0...</td>\n",
       "      <td>[\"Women's Flyweight\", 'Bantamweight', 'Middlew...</td>\n",
       "      <td>...</td>\n",
       "      <td>['5:00', '4:19', '3:12', '5:00', '1:28', '5:00...</td>\n",
       "      <td>['153 of 311\\n126 of 264', '51 of 79\\n62 of 10...</td>\n",
       "      <td>['193 of 353\\n148 of 288', '60 of 88\\n66 of 10...</td>\n",
       "      <td>['0 of 0\\n2 of 10', '1 of 1\\n0 of 1', '3 of 5\\...</td>\n",
       "      <td>['0:00\\n3:29', '0:20\\n3:30', '5:03\\n1:11', '4:...</td>\n",
       "      <td>['101 of 243\\n103 of 235', '10 of 35\\n40 of 77...</td>\n",
       "      <td>['33 of 45\\n17 of 22', '9 of 10\\n15 of 18', '5...</td>\n",
       "      <td>['19 of 23\\n6 of 7', '32 of 34\\n7 of 7', '0 of...</td>\n",
       "      <td>['9 of 12\\n0 of 1', '3 of 5\\n12 of 14', '7 of ...</td>\n",
       "      <td>['1 of 1\\n2 of 2', '0 of 1\\n13 of 24', '11 of ...</td>\n",
       "    </tr>\n",
       "  </tbody>\n",
       "</table>\n",
       "<p>2 rows × 22 columns</p>\n",
       "</div>"
      ],
      "text/plain": [
       "                                EVENT  \\\n",
       "0     UFC 280: Oliveira vs. Makhachev   \n",
       "1  UFC Fight Night: Grasso vs. Araujo   \n",
       "\n",
       "                                                 URL              DATE  \\\n",
       "0  http://ufcstats.com/event-details/885e7f70dcac...  October 22, 2022   \n",
       "1  http://ufcstats.com/event-details/49c29e57d4e2...  October 15, 2022   \n",
       "\n",
       "                                     LOCATION  \\\n",
       "0  Abu Dhabi, Abu Dhabi, United Arab Emirates   \n",
       "1                      Las Vegas, Nevada, USA   \n",
       "\n",
       "                                             FIGHTER  \\\n",
       "0  ['Islam Makhachev\\nCharles Oliveira', 'Aljamai...   \n",
       "1  ['Alexa Grasso\\nViviane Araujo', 'Jonathan Mar...   \n",
       "\n",
       "                                                  KD  \\\n",
       "0  ['1\\n0', '0\\n0', '0\\n0', '1\\n0', '0\\n0', '0\\n0...   \n",
       "1  ['0\\n0', '2\\n0', '0\\n0', '0\\n0', '1\\n0', '2\\n0...   \n",
       "\n",
       "                                              C. STR  \\\n",
       "0  ['30\\n19', '72\\n8', '84\\n58', '59\\n33', '98\\n7...   \n",
       "1  ['153\\n126', '62\\n51', '61\\n25', '60\\n55', '8\\...   \n",
       "\n",
       "                                               C. TD  \\\n",
       "0  ['2\\n0', '5\\n0', '0\\n6', '0\\n4', '1\\n0', '0\\n0...   \n",
       "1  ['0\\n2', '0\\n1', '0\\n3', '2\\n0', '0\\n0', '1\\n1...   \n",
       "\n",
       "                                                 SUB  \\\n",
       "0  ['1\\n0', '2\\n0', '0\\n0', '0\\n0', '0\\n0', '0\\n0...   \n",
       "1  ['0\\n0', '0\\n0', '0\\n1', '0\\n0', '0\\n0', '0\\n0...   \n",
       "\n",
       "                                        WEIGHT CLASS  ...  \\\n",
       "0  ['Lightweight', 'Bantamweight', 'Bantamweight'...  ...   \n",
       "1  [\"Women's Flyweight\", 'Bantamweight', 'Middlew...  ...   \n",
       "\n",
       "                                                TIME  \\\n",
       "0  ['3:16', '3:44', '5:00', '5:00', '5:00', '4:47...   \n",
       "1  ['5:00', '4:19', '3:12', '5:00', '1:28', '5:00...   \n",
       "\n",
       "                                            SIG. STR  \\\n",
       "0  ['19 of 39\\n30 of 41', '72 of 93\\n8 of 26', '5...   \n",
       "1  ['153 of 311\\n126 of 264', '51 of 79\\n62 of 10...   \n",
       "\n",
       "                                          TOTAL STR.  \\\n",
       "0  ['25 of 46\\n72 of 86', '148 of 181\\n13 of 31',...   \n",
       "1  ['193 of 353\\n148 of 288', '60 of 88\\n66 of 10...   \n",
       "\n",
       "                                                  TD  \\\n",
       "0  ['0 of 1\\n2 of 3', '5 of 8\\n0 of 0', '6 of 13\\...   \n",
       "1  ['0 of 0\\n2 of 10', '1 of 1\\n0 of 1', '3 of 5\\...   \n",
       "\n",
       "                                          T. CONTROL  \\\n",
       "0  ['0:42\\n5:05', '7:06\\n0:03', '5:44\\n0:02', '0:...   \n",
       "1  ['0:00\\n3:29', '0:20\\n3:30', '5:03\\n1:11', '4:...   \n",
       "\n",
       "                                              CABEZA  \\\n",
       "0  ['7 of 23\\n25 of 35', '56 of 75\\n3 of 20', '24...   \n",
       "1  ['101 of 243\\n103 of 235', '10 of 35\\n40 of 77...   \n",
       "\n",
       "                                              CUERPO  \\\n",
       "0  ['12 of 15\\n5 of 6', '13 of 15\\n2 of 2', '13 o...   \n",
       "1  ['33 of 45\\n17 of 22', '9 of 10\\n15 of 18', '5...   \n",
       "\n",
       "                                              PIERNA  \\\n",
       "0  ['0 of 1\\n0 of 0', '3 of 3\\n3 of 4', '21 of 21...   \n",
       "1  ['19 of 23\\n6 of 7', '32 of 34\\n7 of 7', '0 of...   \n",
       "\n",
       "                                              CLINCH  \\\n",
       "0  ['7 of 8\\n5 of 5', '2 of 4\\n0 of 0', '5 of 6\\n...   \n",
       "1  ['9 of 12\\n0 of 1', '3 of 5\\n12 of 14', '7 of ...   \n",
       "\n",
       "                                              GROUND  \n",
       "0  ['2 of 5\\n4 of 5', '53 of 59\\n0 of 0', '6 of 9...  \n",
       "1  ['1 of 1\\n2 of 2', '0 of 1\\n13 of 24', '11 of ...  \n",
       "\n",
       "[2 rows x 22 columns]"
      ]
     },
     "execution_count": 8,
     "metadata": {},
     "output_type": "execute_result"
    }
   ],
   "source": [
    "df_ = pd.read_csv(\"../data/ufc.csv\", index_col = 0)\n",
    "df_.head(2)"
   ]
  },
  {
   "cell_type": "markdown",
   "id": "da543ede",
   "metadata": {},
   "source": [
    "<h3>Asta este punto ya hemos terminado la etapa de extracción ahora pasaremos a limpiar nuestra DataFrame; se podra encontrar en \"Limpieza\"</h3>"
   ]
  },
  {
   "cell_type": "code",
   "execution_count": null,
   "id": "027e8812",
   "metadata": {},
   "outputs": [],
   "source": []
  }
 ],
 "metadata": {
  "kernelspec": {
   "display_name": "iron",
   "language": "python",
   "name": "iron"
  },
  "language_info": {
   "codemirror_mode": {
    "name": "ipython",
    "version": 3
   },
   "file_extension": ".py",
   "mimetype": "text/x-python",
   "name": "python",
   "nbconvert_exporter": "python",
   "pygments_lexer": "ipython3",
   "version": "3.10.4"
  }
 },
 "nbformat": 4,
 "nbformat_minor": 5
}
